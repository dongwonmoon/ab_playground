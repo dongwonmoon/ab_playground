{
 "cells": [
  {
   "cell_type": "code",
   "execution_count": 1,
   "id": "6db017f0",
   "metadata": {},
   "outputs": [],
   "source": [
    "import pandas as pd\n",
    "from surprise import Dataset as Surprise_Dataset\n",
    "from surprise import Reader, SVD\n",
    "from surprise.model_selection import cross_validate\n",
    "\n",
    "ratings_clean = pd.read_parquet(\"../data/processed/ratings_clean.parquet\")"
   ]
  },
  {
   "cell_type": "markdown",
   "id": "ef632163",
   "metadata": {},
   "source": [
    "# SVD"
   ]
  },
  {
   "cell_type": "code",
   "execution_count": 2,
   "id": "c3872ec7",
   "metadata": {},
   "outputs": [],
   "source": [
    "# Surprise 라이브러리 데이터 형식으로 변환\n",
    "# 평점(rating)의 범위를 지정. MovieLens는 0.5~5.0\n",
    "reader = Reader(rating_scale=(0.5, 5.0))\n",
    "data = Surprise_Dataset.load_from_df(\n",
    "    ratings_clean[[\"userId\", \"movieId\", \"rating\"]], reader\n",
    ")"
   ]
  },
  {
   "cell_type": "code",
   "execution_count": 3,
   "id": "ed3f6d46",
   "metadata": {},
   "outputs": [
    {
     "name": "stdout",
     "output_type": "stream",
     "text": [
      "Processing epoch 0\n",
      "Processing epoch 1\n",
      "Processing epoch 2\n",
      "Processing epoch 3\n",
      "Processing epoch 4\n",
      "Processing epoch 5\n",
      "Processing epoch 6\n",
      "Processing epoch 7\n",
      "Processing epoch 8\n",
      "Processing epoch 9\n",
      "Processing epoch 10\n",
      "Processing epoch 11\n",
      "Processing epoch 12\n",
      "Processing epoch 13\n",
      "Processing epoch 14\n",
      "Processing epoch 15\n",
      "Processing epoch 16\n",
      "Processing epoch 17\n",
      "Processing epoch 18\n",
      "Processing epoch 19\n",
      "Processing epoch 0\n",
      "Processing epoch 1\n",
      "Processing epoch 2\n",
      "Processing epoch 3\n",
      "Processing epoch 4\n",
      "Processing epoch 5\n",
      "Processing epoch 6\n",
      "Processing epoch 7\n",
      "Processing epoch 8\n",
      "Processing epoch 9\n",
      "Processing epoch 10\n",
      "Processing epoch 11\n",
      "Processing epoch 12\n",
      "Processing epoch 13\n",
      "Processing epoch 14\n",
      "Processing epoch 15\n",
      "Processing epoch 16\n",
      "Processing epoch 17\n",
      "Processing epoch 18\n",
      "Processing epoch 19\n",
      "Processing epoch 0\n",
      "Processing epoch 1\n",
      "Processing epoch 2\n",
      "Processing epoch 3\n",
      "Processing epoch 4\n",
      "Processing epoch 5\n",
      "Processing epoch 6\n",
      "Processing epoch 7\n",
      "Processing epoch 8\n",
      "Processing epoch 9\n",
      "Processing epoch 10\n",
      "Processing epoch 11\n",
      "Processing epoch 12\n",
      "Processing epoch 13\n",
      "Processing epoch 14\n",
      "Processing epoch 15\n",
      "Processing epoch 16\n",
      "Processing epoch 17\n",
      "Processing epoch 18\n",
      "Processing epoch 19\n",
      "Evaluating RMSE, MAE of algorithm SVD on 3 split(s).\n",
      "\n",
      "                  Fold 1  Fold 2  Fold 3  Mean    Std     \n",
      "RMSE (testset)    0.9021  0.8962  0.8859  0.8947  0.0067  \n",
      "MAE (testset)     0.6905  0.6862  0.6810  0.6859  0.0039  \n",
      "Fit time          0.52    0.45    0.51    0.49    0.03    \n",
      "Test time         0.11    0.10    0.18    0.13    0.04    \n"
     ]
    }
   ],
   "source": [
    "# SVD 모델 정의 및 교차 검증\n",
    "svd = SVD(verbose=True)\n",
    "cv_results = cross_validate(svd, data, measures=[\"RMSE\", \"MAE\"], cv=3, verbose=True)"
   ]
  },
  {
   "cell_type": "code",
   "execution_count": 4,
   "id": "4382f510",
   "metadata": {},
   "outputs": [
    {
     "name": "stdout",
     "output_type": "stream",
     "text": [
      "\n",
      "SVD Cross-Validation Results:\n",
      "{'test_rmse': array([0.90211991, 0.89616806, 0.88587305]), 'test_mae': array([0.69045029, 0.68619662, 0.68098762]), 'fit_time': (0.516387939453125, 0.44516658782958984, 0.5139446258544922), 'test_time': (0.10825991630554199, 0.09551620483398438, 0.18036866188049316)}\n"
     ]
    }
   ],
   "source": [
    "print(\"\\nSVD Cross-Validation Results:\")\n",
    "print(cv_results)"
   ]
  },
  {
   "cell_type": "markdown",
   "id": "005a06b8",
   "metadata": {},
   "source": [
    "# NCF"
   ]
  },
  {
   "cell_type": "code",
   "execution_count": 5,
   "id": "007d0fee",
   "metadata": {},
   "outputs": [],
   "source": [
    "import torch\n",
    "from torch.utils.data import Dataset, DataLoader\n",
    "from sklearn.model_selection import train_test_split\n",
    "\n",
    "# 모델이 사용할 수 있도록 ID를 0부터 시작하는 연속된 값으로 매핑핑\n",
    "user_map = {id: i for i, id in enumerate(ratings_clean[\"userId\"].unique())}\n",
    "movie_map = {id: i for i, id in enumerate(ratings_clean[\"movieId\"].unique())}\n",
    "\n",
    "ratings_clean[\"user_idx\"] = ratings_clean[\"userId\"].map(user_map)\n",
    "ratings_clean[\"movie_idx\"] = ratings_clean[\"movieId\"].map(movie_map)"
   ]
  },
  {
   "cell_type": "code",
   "execution_count": 6,
   "id": "a1adae4d",
   "metadata": {},
   "outputs": [],
   "source": [
    "train_df, val_df = train_test_split(ratings_clean, test_size=0.2, random_state=42)"
   ]
  },
  {
   "cell_type": "code",
   "execution_count": 7,
   "id": "1f6de85a",
   "metadata": {},
   "outputs": [],
   "source": [
    "class RatingsDataset(Dataset):\n",
    "    def __init__(self, df):\n",
    "        self.users = torch.tensor(df[\"user_idx\"].values, dtype=torch.long)\n",
    "        self.movies = torch.tensor(df[\"movie_idx\"].values, dtype=torch.long)\n",
    "        self.ratings = torch.tensor(df[\"rating\"].values, dtype=torch.float32)\n",
    "\n",
    "    def __len__(self):\n",
    "        return len(self.users)\n",
    "\n",
    "    def __getitem__(self, idx):\n",
    "        return self.users[idx], self.movies[idx], self.ratings[idx]"
   ]
  },
  {
   "cell_type": "code",
   "execution_count": 8,
   "id": "d6ad9e22",
   "metadata": {},
   "outputs": [],
   "source": [
    "train_dataset = RatingsDataset(train_df)\n",
    "val_dataset = RatingsDataset(val_df)"
   ]
  },
  {
   "cell_type": "code",
   "execution_count": 9,
   "id": "43b3187c",
   "metadata": {},
   "outputs": [],
   "source": [
    "train_loader = DataLoader(train_dataset, batch_size=1024, shuffle=True)\n",
    "val_loader = DataLoader(val_dataset, batch_size=1024)"
   ]
  },
  {
   "cell_type": "code",
   "execution_count": 10,
   "id": "bcda2dae",
   "metadata": {},
   "outputs": [],
   "source": [
    "import torch.nn as nn\n",
    "\n",
    "\n",
    "class NCF(nn.Module):\n",
    "    def __init__(self, num_users, num_movies, embedding_dim=32):\n",
    "        super().__init__()\n",
    "        # User, Movie Index로 진행 => 특성을 매핑할 Embedding Vector\n",
    "        self.user_embedding = nn.Embedding(num_users, embedding_dim)\n",
    "        self.movie_embedding = nn.Embedding(num_movies, embedding_dim)\n",
    "        self.fc1 = nn.Linear(embedding_dim * 2, 128)\n",
    "        self.fc2 = nn.Linear(128, 64)\n",
    "        self.fc3 = nn.Linear(64, 1)\n",
    "        self.relu = nn.ReLU()\n",
    "\n",
    "    def forward(self, user_indices, movie_indices):\n",
    "        user_embed = self.user_embedding(user_indices)\n",
    "        movie_embed = self.movie_embedding(movie_indices)\n",
    "        x = torch.cat([user_embed, movie_embed], dim=1)\n",
    "        x = self.relu(self.fc1(x))\n",
    "        x = self.relu(self.fc2(x))\n",
    "        x = self.fc3(x)\n",
    "        return x.squeeze()"
   ]
  },
  {
   "cell_type": "code",
   "execution_count": 20,
   "id": "52ea0519",
   "metadata": {},
   "outputs": [],
   "source": [
    "num_users = len(user_map)\n",
    "num_movies = len(movie_map)\n",
    "ncf_model = NCF(num_users, num_movies)"
   ]
  },
  {
   "cell_type": "code",
   "execution_count": 21,
   "id": "9a436ea0",
   "metadata": {},
   "outputs": [],
   "source": [
    "device = torch.device(\"cuda\" if torch.cuda.is_available() else \"cpu\")\n",
    "ncf_model.to(device)\n",
    "criterion = nn.MSELoss()\n",
    "optimizer = torch.optim.Adam(ncf_model.parameters(), lr=0.001)"
   ]
  },
  {
   "cell_type": "code",
   "execution_count": 22,
   "id": "e9371139",
   "metadata": {},
   "outputs": [
    {
     "name": "stdout",
     "output_type": "stream",
     "text": [
      "Epoch 1, Train Loss(MSE): 4.1119, Val Loss(MSE): 1.1512\n",
      "Epoch 2, Train Loss(MSE): 1.0782, Val Loss(MSE): 1.0206\n",
      "Epoch 3, Train Loss(MSE): 0.9860, Val Loss(MSE): 0.9614\n",
      "Epoch 4, Train Loss(MSE): 0.9274, Val Loss(MSE): 0.9251\n",
      "Epoch 5, Train Loss(MSE): 0.8856, Val Loss(MSE): 0.8973\n",
      "Epoch 6, Train Loss(MSE): 0.8553, Val Loss(MSE): 0.8777\n",
      "Epoch 7, Train Loss(MSE): 0.8307, Val Loss(MSE): 0.8646\n",
      "Epoch 8, Train Loss(MSE): 0.8113, Val Loss(MSE): 0.8545\n",
      "Epoch 9, Train Loss(MSE): 0.7947, Val Loss(MSE): 0.8440\n",
      "Epoch 10, Train Loss(MSE): 0.7776, Val Loss(MSE): 0.8373\n"
     ]
    }
   ],
   "source": [
    "train_losses = []\n",
    "val_losses = []\n",
    "\n",
    "for epoch in range(10):\n",
    "    ncf_model.train()\n",
    "    running_train_loss = 0.0\n",
    "\n",
    "    # ===== TRAIN =====\n",
    "    for users, movies, ratings in train_loader:\n",
    "        users, movies, ratings = users.to(device), movies.to(device), ratings.to(device)\n",
    "        optimizer.zero_grad()\n",
    "        outputs = ncf_model(users, movies)\n",
    "        loss = criterion(outputs, ratings)\n",
    "        loss.backward()\n",
    "        optimizer.step()\n",
    "        running_train_loss += loss.item()\n",
    "\n",
    "    avg_train_loss = running_train_loss / len(train_loader)\n",
    "    train_losses.append(avg_train_loss)\n",
    "\n",
    "    # ===== VALIDATION =====\n",
    "    ncf_model.eval()\n",
    "    running_val_loss = 0.0\n",
    "    with torch.no_grad():\n",
    "        for users, movies, ratings in val_loader:\n",
    "            users, movies, ratings = (\n",
    "                users.to(device),\n",
    "                movies.to(device),\n",
    "                ratings.to(device),\n",
    "            )\n",
    "            outputs = ncf_model(users, movies)\n",
    "            outputs = torch.clamp(outputs, 0.5, 5)\n",
    "            loss = criterion(outputs, ratings)\n",
    "            running_val_loss += loss.item()\n",
    "\n",
    "    avg_val_loss = running_val_loss / len(val_loader)\n",
    "    val_losses.append(avg_val_loss)\n",
    "\n",
    "    print(\n",
    "        f\"Epoch {epoch+1}, Train Loss(MSE): {avg_train_loss:.4f}, Val Loss(MSE): {avg_val_loss:.4f}\"\n",
    "    )"
   ]
  },
  {
   "cell_type": "code",
   "execution_count": 23,
   "id": "d4669fb7",
   "metadata": {},
   "outputs": [
    {
     "data": {
      "image/png": "[encoded data removed]",
      "text/plain": [
       "<Figure size 800x500 with 1 Axes>"
      ]
     },
     "metadata": {},
     "output_type": "display_data"
    }
   ],
   "source": [
    "import matplotlib.pyplot as plt\n",
    "\n",
    "plt.figure(figsize=(8, 5))\n",
    "plt.plot(train_losses, label=\"Train Loss\")\n",
    "plt.plot(val_losses, label=\"Validation Loss\")\n",
    "plt.xlabel(\"Epoch\")\n",
    "plt.ylabel(\"Loss\")\n",
    "plt.title(\"Training vs Validation Loss\")\n",
    "plt.legend()\n",
    "plt.grid(True)\n",
    "plt.tight_layout()\n",
    "plt.show()"
   ]
  },
  {
   "cell_type": "code",
   "execution_count": null,
   "id": "ff2f0b47",
   "metadata": {},
   "outputs": [],
   "source": []
  },
  {
   "cell_type": "code",
   "execution_count": null,
   "id": "2fd82e2a",
   "metadata": {},
   "outputs": [],
   "source": []
  },
  {
   "cell_type": "code",
   "execution_count": null,
   "id": "b9ebb2aa",
   "metadata": {},
   "outputs": [],
   "source": []
  },
  {
   "cell_type": "code",
   "execution_count": null,
   "id": "989285ce",
   "metadata": {},
   "outputs": [],
   "source": []
  },
  {
   "cell_type": "code",
   "execution_count": null,
   "id": "cabbf138",
   "metadata": {},
   "outputs": [],
   "source": []
  }
 ],
 "metadata": {
  "kernelspec": {
   "display_name": "ab_system",
   "language": "python",
   "name": "python3"
  },
  "language_info": {
   "codemirror_mode": {
    "name": "ipython",
    "version": 3
   },
   "file_extension": ".py",
   "mimetype": "text/x-python",
   "name": "python",
   "nbconvert_exporter": "python",
   "pygments_lexer": "ipython3",
   "version": "3.9.23"
  }
 },
 "nbformat": 4,
 "nbformat_minor": 5
}
