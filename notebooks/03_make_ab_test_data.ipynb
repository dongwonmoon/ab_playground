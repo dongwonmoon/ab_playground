{
 "cells": [
  {
   "cell_type": "code",
   "execution_count": null,
   "id": "fc504f97",
   "metadata": {},
   "outputs": [],
   "source": [
    "import pandas as pd\n",
    "import numpy as np\n",
    "import random\n",
    "\n",
    "random.seed(42)\n",
    "\n",
    "processed_df = pd.read_parquet(\"../data/processed/ratings_clean.parquet\")"
   ]
  },
  {
   "cell_type": "code",
   "execution_count": null,
   "id": "10d3b17d",
   "metadata": {},
   "outputs": [
    {
     "name": "stdout",
     "output_type": "stream",
     "text": [
      "Guaranteed training set size: 6554\n"
     ]
    }
   ],
   "source": [
    "# `필수 학습 데이터` 확보\n",
    "guaranteed_by_user = processed_df.drop_duplicates(subset=[\"userId\"], keep=\"first\")\n",
    "guaranteed_by_movie = processed_df.drop_duplicates(subset=[\"movieId\"], keep=\"first\")\n",
    "guaranteed_train_df = pd.concat(\n",
    "    [guaranteed_by_user, guaranteed_by_movie]\n",
    ").drop_duplicates()\n",
    "print(f\"Guaranteed training set size: {len(guaranteed_train_df)}\")"
   ]
  },
  {
   "cell_type": "code",
   "execution_count": 8,
   "id": "a2bb1a59",
   "metadata": {},
   "outputs": [
    {
     "name": "stdout",
     "output_type": "stream",
     "text": [
      "Random pool size: 72280\n"
     ]
    }
   ],
   "source": [
    "# 나머지로 `랜덤 풀` 만들기\n",
    "random_pool_df = processed_df.drop(guaranteed_train_df.index)\n",
    "\n",
    "print(f\"Random pool size: {len(random_pool_df)}\")"
   ]
  },
  {
   "cell_type": "code",
   "execution_count": null,
   "id": "71425398",
   "metadata": {},
   "outputs": [],
   "source": [
    "grouped = random_pool_df.groupby(\"userId\")\n",
    "additional_train_list = []\n",
    "test_list = []\n",
    "\n",
    "for user_id, group in grouped:\n",
    "    if len(group) == 0:\n",
    "        continue\n",
    "\n",
    "    # 남은 데이터가 1개 뿐이면, 추가 학습 데이터로 사용\n",
    "    if len(group) == 1:\n",
    "        additional_train_list.append(group)\n",
    "    else:\n",
    "        test_sample = group.sample(n=random.randint(1, len(group)), random_state=42)\n",
    "        test_list.append(test_sample)\n",
    "\n",
    "        train_sample = group.drop(test_sample.index)\n",
    "        if not train_sample.empty:\n",
    "            additional_train_list.append(train_sample)\n",
    "\n",
    "# 리스트들을 하나의 데이터프레임으로 합침\n",
    "additional_train_df = (\n",
    "    pd.concat(additional_train_list) if additional_train_list else pd.DataFrame()\n",
    ")\n",
    "test_df = pd.concat(test_list) if test_list else pd.DataFrame()"
   ]
  },
  {
   "cell_type": "code",
   "execution_count": null,
   "id": "edf6c9ed",
   "metadata": {},
   "outputs": [
    {
     "name": "stdout",
     "output_type": "stream",
     "text": [
      "\n",
      "Final Train data size: 42839\n",
      "Final Test data size: 35995\n",
      "Verification (Train + Test == Original): True\n"
     ]
    }
   ],
   "source": [
    "final_train_df = pd.concat([guaranteed_train_df, additional_train_df])\n",
    "\n",
    "print(f\"\\nFinal Train data size: {len(final_train_df)}\")\n",
    "print(f\"Final Test data size: {len(test_df)}\")\n",
    "print(\n",
    "    f\"Verification (Train + Test == Original): {len(final_train_df) + len(test_df) == len(processed_df)}\"\n",
    ")"
   ]
  },
  {
   "cell_type": "code",
   "execution_count": null,
   "id": "0d34b639",
   "metadata": {},
   "outputs": [
    {
     "name": "stdout",
     "output_type": "stream",
     "text": [
      "\n",
      "All users in training set: True\n",
      "All movies in training set: True\n"
     ]
    }
   ],
   "source": [
    "train_users = set(final_train_df[\"userId\"].unique())\n",
    "train_movies = set(final_train_df[\"movieId\"].unique())\n",
    "all_users = set(processed_df[\"userId\"].unique())\n",
    "all_movies = set(processed_df[\"movieId\"].unique())\n",
    "\n",
    "print(f\"\\nAll users in training set: {train_users == all_users}\")\n",
    "print(f\"All movies in training set: {train_movies == all_movies}\")"
   ]
  },
  {
   "cell_type": "code",
   "execution_count": null,
   "id": "9d275222",
   "metadata": {},
   "outputs": [
    {
     "name": "stdout",
     "output_type": "stream",
     "text": [
      "\n",
      "Processed data saved to ../data/processed/\n"
     ]
    }
   ],
   "source": [
    "output_path = \"../data/processed/\"\n",
    "final_train_df.to_parquet(output_path + \"train_data.parquet\", index=False)\n",
    "test_df.to_parquet(output_path + \"test_data.parquet\", index=False)\n",
    "\n",
    "print(f\"\\nProcessed data saved to {output_path}\")"
   ]
  },
  {
   "cell_type": "code",
   "execution_count": null,
   "id": "254c86ec",
   "metadata": {},
   "outputs": [],
   "source": []
  },
  {
   "cell_type": "code",
   "execution_count": null,
   "id": "280c0039",
   "metadata": {},
   "outputs": [],
   "source": []
  },
  {
   "cell_type": "code",
   "execution_count": null,
   "id": "4596770e",
   "metadata": {},
   "outputs": [],
   "source": []
  },
  {
   "cell_type": "code",
   "execution_count": null,
   "id": "2d1b01ec",
   "metadata": {},
   "outputs": [],
   "source": []
  },
  {
   "cell_type": "code",
   "execution_count": null,
   "id": "ae761f1f",
   "metadata": {},
   "outputs": [],
   "source": []
  }
 ],
 "metadata": {
  "kernelspec": {
   "display_name": "ab_system",
   "language": "python",
   "name": "python3"
  },
  "language_info": {
   "codemirror_mode": {
    "name": "ipython",
    "version": 3
   },
   "file_extension": ".py",
   "mimetype": "text/x-python",
   "name": "python",
   "nbconvert_exporter": "python",
   "pygments_lexer": "ipython3",
   "version": "3.9.23"
  }
 },
 "nbformat": 4,
 "nbformat_minor": 5
}
