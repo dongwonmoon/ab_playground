{
 "cells": [
  {
   "cell_type": "code",
   "execution_count": 1,
   "id": "23e399df",
   "metadata": {},
   "outputs": [],
   "source": [
    "import pandas as pd\n",
    "import numpy as np\n",
    "import matplotlib.pyplot as plt\n",
    "import seaborn as sns\n",
    "\n",
    "ratings_path = \"../data/raw/ratings.csv\"\n",
    "movies_path = \"../data/raw/movies.csv\"\n",
    "\n",
    "ratings = pd.read_csv(ratings_path)\n",
    "movies = pd.read_csv(movies_path)"
   ]
  },
  {
   "cell_type": "code",
   "execution_count": 2,
   "id": "e6ffbb2d",
   "metadata": {},
   "outputs": [
    {
     "name": "stdout",
     "output_type": "stream",
     "text": [
      "Ratings Sample: \n"
     ]
    },
    {
     "data": {
      "text/html": [
       "<div>\n",
       "<style scoped>\n",
       "    .dataframe tbody tr th:only-of-type {\n",
       "        vertical-align: middle;\n",
       "    }\n",
       "\n",
       "    .dataframe tbody tr th {\n",
       "        vertical-align: top;\n",
       "    }\n",
       "\n",
       "    .dataframe thead th {\n",
       "        text-align: right;\n",
       "    }\n",
       "</style>\n",
       "<table border=\"1\" class=\"dataframe\">\n",
       "  <thead>\n",
       "    <tr style=\"text-align: right;\">\n",
       "      <th></th>\n",
       "      <th>userId</th>\n",
       "      <th>movieId</th>\n",
       "      <th>rating</th>\n",
       "      <th>timestamp</th>\n",
       "    </tr>\n",
       "  </thead>\n",
       "  <tbody>\n",
       "    <tr>\n",
       "      <th>0</th>\n",
       "      <td>1</td>\n",
       "      <td>1</td>\n",
       "      <td>4.0</td>\n",
       "      <td>964982703</td>\n",
       "    </tr>\n",
       "    <tr>\n",
       "      <th>1</th>\n",
       "      <td>1</td>\n",
       "      <td>3</td>\n",
       "      <td>4.0</td>\n",
       "      <td>964981247</td>\n",
       "    </tr>\n",
       "    <tr>\n",
       "      <th>2</th>\n",
       "      <td>1</td>\n",
       "      <td>6</td>\n",
       "      <td>4.0</td>\n",
       "      <td>964982224</td>\n",
       "    </tr>\n",
       "    <tr>\n",
       "      <th>3</th>\n",
       "      <td>1</td>\n",
       "      <td>47</td>\n",
       "      <td>5.0</td>\n",
       "      <td>964983815</td>\n",
       "    </tr>\n",
       "    <tr>\n",
       "      <th>4</th>\n",
       "      <td>1</td>\n",
       "      <td>50</td>\n",
       "      <td>5.0</td>\n",
       "      <td>964982931</td>\n",
       "    </tr>\n",
       "  </tbody>\n",
       "</table>\n",
       "</div>"
      ],
      "text/plain": [
       "   userId  movieId  rating  timestamp\n",
       "0       1        1     4.0  964982703\n",
       "1       1        3     4.0  964981247\n",
       "2       1        6     4.0  964982224\n",
       "3       1       47     5.0  964983815\n",
       "4       1       50     5.0  964982931"
      ]
     },
     "execution_count": 2,
     "metadata": {},
     "output_type": "execute_result"
    }
   ],
   "source": [
    "print(\"Ratings Sample: \")\n",
    "ratings.head()"
   ]
  },
  {
   "cell_type": "code",
   "execution_count": 3,
   "id": "6cb99834",
   "metadata": {},
   "outputs": [
    {
     "name": "stdout",
     "output_type": "stream",
     "text": [
      "Movies Sample: \n"
     ]
    },
    {
     "data": {
      "text/html": [
       "<div>\n",
       "<style scoped>\n",
       "    .dataframe tbody tr th:only-of-type {\n",
       "        vertical-align: middle;\n",
       "    }\n",
       "\n",
       "    .dataframe tbody tr th {\n",
       "        vertical-align: top;\n",
       "    }\n",
       "\n",
       "    .dataframe thead th {\n",
       "        text-align: right;\n",
       "    }\n",
       "</style>\n",
       "<table border=\"1\" class=\"dataframe\">\n",
       "  <thead>\n",
       "    <tr style=\"text-align: right;\">\n",
       "      <th></th>\n",
       "      <th>movieId</th>\n",
       "      <th>title</th>\n",
       "      <th>genres</th>\n",
       "    </tr>\n",
       "  </thead>\n",
       "  <tbody>\n",
       "    <tr>\n",
       "      <th>0</th>\n",
       "      <td>1</td>\n",
       "      <td>Toy Story (1995)</td>\n",
       "      <td>Adventure|Animation|Children|Comedy|Fantasy</td>\n",
       "    </tr>\n",
       "    <tr>\n",
       "      <th>1</th>\n",
       "      <td>2</td>\n",
       "      <td>Jumanji (1995)</td>\n",
       "      <td>Adventure|Children|Fantasy</td>\n",
       "    </tr>\n",
       "    <tr>\n",
       "      <th>2</th>\n",
       "      <td>3</td>\n",
       "      <td>Grumpier Old Men (1995)</td>\n",
       "      <td>Comedy|Romance</td>\n",
       "    </tr>\n",
       "    <tr>\n",
       "      <th>3</th>\n",
       "      <td>4</td>\n",
       "      <td>Waiting to Exhale (1995)</td>\n",
       "      <td>Comedy|Drama|Romance</td>\n",
       "    </tr>\n",
       "    <tr>\n",
       "      <th>4</th>\n",
       "      <td>5</td>\n",
       "      <td>Father of the Bride Part II (1995)</td>\n",
       "      <td>Comedy</td>\n",
       "    </tr>\n",
       "  </tbody>\n",
       "</table>\n",
       "</div>"
      ],
      "text/plain": [
       "   movieId                               title  \\\n",
       "0        1                    Toy Story (1995)   \n",
       "1        2                      Jumanji (1995)   \n",
       "2        3             Grumpier Old Men (1995)   \n",
       "3        4            Waiting to Exhale (1995)   \n",
       "4        5  Father of the Bride Part II (1995)   \n",
       "\n",
       "                                        genres  \n",
       "0  Adventure|Animation|Children|Comedy|Fantasy  \n",
       "1                   Adventure|Children|Fantasy  \n",
       "2                               Comedy|Romance  \n",
       "3                         Comedy|Drama|Romance  \n",
       "4                                       Comedy  "
      ]
     },
     "execution_count": 3,
     "metadata": {},
     "output_type": "execute_result"
    }
   ],
   "source": [
    "print(\"Movies Sample: \")\n",
    "movies.head()"
   ]
  },
  {
   "cell_type": "code",
   "execution_count": 4,
   "id": "f3777a70",
   "metadata": {},
   "outputs": [
    {
     "name": "stdout",
     "output_type": "stream",
     "text": [
      "총 평점 수: 100836\n",
      "고유 사용자 수: 610\n",
      "고유 영화 수: 9724\n"
     ]
    }
   ],
   "source": [
    "print(f\"총 평점 수: {len(ratings)}\")\n",
    "print(f\"고유 사용자 수: {ratings['userId'].nunique()}\")\n",
    "print(f\"고유 영화 수: {ratings['movieId'].nunique()}\")"
   ]
  },
  {
   "cell_type": "code",
   "execution_count": 5,
   "id": "bd2758cf",
   "metadata": {},
   "outputs": [
    {
     "data": {
      "image/png": "[encoded data removed]",
      "text/plain": [
       "<Figure size 640x480 with 1 Axes>"
      ]
     },
     "metadata": {},
     "output_type": "display_data"
    }
   ],
   "source": [
    "# 평점 분포 시각화\n",
    "sns.countplot(x=\"rating\", data=ratings)\n",
    "plt.title(\"Rating Distribution\")\n",
    "plt.show()"
   ]
  },
  {
   "cell_type": "markdown",
   "id": "a7333c8a",
   "metadata": {},
   "source": [
    "# 이상치 제거(사용자 필터링)"
   ]
  },
  {
   "cell_type": "code",
   "execution_count": 6,
   "id": "8e4c79be",
   "metadata": {},
   "outputs": [
    {
     "name": "stdout",
     "output_type": "stream",
     "text": [
      "유저 별 활동 수 Bar plot (Log): \n"
     ]
    },
    {
     "data": {
      "image/png": "[encoded data removed]",
      "text/plain": [
       "<Figure size 640x480 with 1 Axes>"
      ]
     },
     "metadata": {},
     "output_type": "display_data"
    }
   ],
   "source": [
    "# 유저 별 활동 수 bar plot (log)\n",
    "\"\"\"\n",
    "급격하게 많아지는 \"영화광\"들을 제거하기로 한다.\n",
    "\"\"\"\n",
    "ratings_per_user = ratings[\"userId\"].value_counts()\n",
    "ratings_per_user.sort_values()\n",
    "\n",
    "print(\"유저 별 활동 수 Bar plot (Log): \")\n",
    "plt.bar(ratings_per_user.index.astype(str), np.log10(ratings_per_user.values))\n",
    "plt.xticks([])\n",
    "plt.title(\"User Act Log Scale\")\n",
    "plt.show()"
   ]
  },
  {
   "cell_type": "code",
   "execution_count": 7,
   "id": "f5b5da7a",
   "metadata": {},
   "outputs": [
    {
     "name": "stdout",
     "output_type": "stream",
     "text": [
      "유저 별 활동 수 Box Plot: \n"
     ]
    },
    {
     "data": {
      "image/png": "[encoded data removed]",
      "text/plain": [
       "<Figure size 640x480 with 1 Axes>"
      ]
     },
     "metadata": {},
     "output_type": "display_data"
    }
   ],
   "source": [
    "# 유저 별 활동 수 boxplot\n",
    "\"\"\"\n",
    "몇몇 유저가 너무 많은 평점을 주고 있음 => 이상한 데이터일 가능성 많음.\n",
    "\"\"\"\n",
    "\n",
    "print(\"유저 별 활동 수 Box Plot: \")\n",
    "plt.boxplot(ratings_per_user)\n",
    "plt.show()"
   ]
  },
  {
   "cell_type": "code",
   "execution_count": 8,
   "id": "ac2077c7",
   "metadata": {},
   "outputs": [
    {
     "name": "stdout",
     "output_type": "stream",
     "text": [
      "유저 별 활동 수 Percentile: \n"
     ]
    },
    {
     "data": {
      "text/plain": [
       "count     610.000000\n",
       "mean      165.304918\n",
       "std       269.480584\n",
       "min        20.000000\n",
       "25%        35.000000\n",
       "50%        70.500000\n",
       "75%       168.000000\n",
       "max      2698.000000\n",
       "Name: count, dtype: float64"
      ]
     },
     "execution_count": 8,
     "metadata": {},
     "output_type": "execute_result"
    }
   ],
   "source": [
    "# percentile 확인\n",
    "print(\"유저 별 활동 수 Percentile: \")\n",
    "ratings_per_user.describe()"
   ]
  },
  {
   "cell_type": "code",
   "execution_count": 9,
   "id": "6f9a60b1",
   "metadata": {},
   "outputs": [
    {
     "data": {
      "image/png": "[encoded data removed]",
      "text/plain": [
       "<Figure size 640x480 with 2 Axes>"
      ]
     },
     "metadata": {},
     "output_type": "display_data"
    }
   ],
   "source": [
    "# 75% 이하, 이상 박스 플롯 확인\n",
    "\"\"\"\n",
    "분할 하니, 깔끔한 박스 플롯 확인 됨.\n",
    "\"\"\"\n",
    "under_75 = ratings_per_user[ratings_per_user <= ratings_per_user.quantile(0.75)]\n",
    "over_75 = ratings_per_user[ratings_per_user > ratings_per_user.quantile(0.75)]\n",
    "\n",
    "fig, (ax1, ax2) = plt.subplots(1, 2)\n",
    "fig.subplots_adjust(wspace=0.75)\n",
    "\n",
    "ax1.boxplot(under_75)\n",
    "ax1.set_title(\"Under 75 Box Plot\")\n",
    "\n",
    "ax2.boxplot(over_75)\n",
    "ax2.set_title(\"Over 75 Box Plot\")\n",
    "\n",
    "plt.show()"
   ]
  },
  {
   "cell_type": "code",
   "execution_count": 10,
   "id": "0ebb2226",
   "metadata": {},
   "outputs": [
    {
     "name": "stdout",
     "output_type": "stream",
     "text": [
      "75% 이상 평점 수의 유저 중 75% 이상 유저의 수: 38\n"
     ]
    },
    {
     "data": {
      "text/plain": [
       "count      38.000000\n",
       "mean      986.973684\n",
       "std       514.746093\n",
       "min       520.000000\n",
       "25%       646.500000\n",
       "50%       849.000000\n",
       "75%      1052.750000\n",
       "max      2698.000000\n",
       "Name: count, dtype: float64"
      ]
     },
     "execution_count": 10,
     "metadata": {},
     "output_type": "execute_result"
    }
   ],
   "source": [
    "over_over_75 = over_75[over_75 >= over_75.quantile(0.75)]\n",
    "print(f\"75% 이상 평점 수의 유저 중 75% 이상 유저의 수: {len(over_over_75)}\")\n",
    "over_over_75.describe()"
   ]
  },
  {
   "cell_type": "code",
   "execution_count": 11,
   "id": "969edaaf",
   "metadata": {},
   "outputs": [],
   "source": [
    "# 너무 활동하지 않는 유저와 너무 많이 활동하는 유저 필터링\n",
    "active_users = ratings_per_user[\n",
    "    (ratings_per_user >= under_75.quantile(0.25))\n",
    "    & (ratings_per_user <= over_over_75.quantile(0.75))\n",
    "].index"
   ]
  },
  {
   "cell_type": "code",
   "execution_count": 12,
   "id": "c7416f75",
   "metadata": {},
   "outputs": [
    {
     "name": "stdout",
     "output_type": "stream",
     "text": [
      "Before Clean: 610, After Clean: 488\n"
     ]
    }
   ],
   "source": [
    "print(f\"Before Clean: {len(ratings_per_user)}, After Clean: {len(active_users)}\")"
   ]
  },
  {
   "cell_type": "markdown",
   "id": "63626dad",
   "metadata": {},
   "source": [
    "# 이상치 제거(영화 필터링)"
   ]
  },
  {
   "cell_type": "code",
   "execution_count": 13,
   "id": "d4a0a4df",
   "metadata": {},
   "outputs": [],
   "source": [
    "movie_counts = ratings[\"movieId\"].value_counts()"
   ]
  },
  {
   "cell_type": "code",
   "execution_count": 14,
   "id": "fa62578a",
   "metadata": {},
   "outputs": [
    {
     "name": "stdout",
     "output_type": "stream",
     "text": [
      "영화 별 평점 수 Bar plot (Log): \n"
     ]
    },
    {
     "data": {
      "image/png": "[encoded data removed]",
      "text/plain": [
       "<Figure size 640x480 with 1 Axes>"
      ]
     },
     "metadata": {},
     "output_type": "display_data"
    }
   ],
   "source": [
    "# 영화 별 평점점 수 bar plot (log)\n",
    "ratings_per_movie = ratings[\"movieId\"].value_counts()\n",
    "ratings_per_movie.sort_values()\n",
    "\n",
    "print(\"영화 별 평점 수 Bar plot (Log): \")\n",
    "plt.bar(ratings_per_movie.index.astype(str), np.log10(ratings_per_movie.values))\n",
    "plt.xticks([])\n",
    "plt.title(\"Movie Count Log Scale\")\n",
    "plt.show()"
   ]
  },
  {
   "cell_type": "code",
   "execution_count": 15,
   "id": "33ef803e",
   "metadata": {},
   "outputs": [
    {
     "name": "stdout",
     "output_type": "stream",
     "text": [
      "75% 미만: 7455, 75%~81.25%: 1720, 75% 이상: 2269\n"
     ]
    },
    {
     "data": {
      "image/png": "[encoded data removed]",
      "text/plain": [
       "<Figure size 640x480 with 3 Axes>"
      ]
     },
     "metadata": {},
     "output_type": "display_data"
    }
   ],
   "source": [
    "under_75 = ratings_per_movie[ratings_per_movie <= ratings_per_movie.quantile(0.75)]\n",
    "over_75 = ratings_per_movie[ratings_per_movie > ratings_per_movie.quantile(0.75)]\n",
    "over_under = over_75[over_75 <= over_75.quantile(0.75)]\n",
    "\n",
    "print(\n",
    "    f\"75% 미만: {len(under_75)}, 75%~81.25%: {len(over_under)}, 75% 이상: {len(over_75)}\"\n",
    ")\n",
    "fig, (ax1, ax2, ax3) = plt.subplots(1, 3)\n",
    "fig.tight_layout()\n",
    "fig.subplots_adjust(wspace=2.0)\n",
    "\n",
    "ax1.boxplot(under_75)\n",
    "ax1.set_title(\"Under 75 Box Plot\")\n",
    "\n",
    "ax2.boxplot(over_under)\n",
    "ax2.set_title(\"Over 75 (Under 75) Box Plot\")\n",
    "\n",
    "ax3.boxplot(over_75[over_75 >= over_75.quantile(0.75)])\n",
    "ax3.set_title(\"Over 75 (Over 75) Box Plot\")\n",
    "\n",
    "plt.show()"
   ]
  },
  {
   "cell_type": "code",
   "execution_count": 16,
   "id": "bb8a1f92",
   "metadata": {},
   "outputs": [],
   "source": [
    "popular_movies = ratings_per_movie[\n",
    "    (ratings_per_movie > 1) & (ratings_per_movie <= 300)\n",
    "].index"
   ]
  },
  {
   "cell_type": "code",
   "execution_count": 17,
   "metadata": {},
   "outputs": [
    {
     "name": "stdout",
     "output_type": "stream",
     "text": [
      "Before Clean: 9724, After Clean: 6275\n"
     ]
    }
   ],
   "source": [
    "print(f\"Before Clean: {len(ratings_per_movie)}, After Clean: {len(popular_movies)}\")"
   ]
  },
  {
   "cell_type": "markdown",
   "id": "7fa90496",
   "metadata": {},
   "source": [
    "# 필터링"
   ]
  },
  {
   "cell_type": "code",
   "execution_count": 18,
   "id": "c43fe155",
   "metadata": {},
   "outputs": [],
   "source": [
    "ratings_clean = ratings[\n",
    "    (ratings[\"userId\"].isin(active_users)) & (ratings[\"movieId\"].isin(popular_movies))\n",
    "].copy()"
   ]
  },
  {
   "cell_type": "code",
   "execution_count": 19,
   "id": "b8f8f4d7",
   "metadata": {},
   "outputs": [
    {
     "name": "stdout",
     "output_type": "stream",
     "text": [
      "Original ratings: 100836, Cleaned ratings: 78834\n"
     ]
    }
   ],
   "source": [
    "print(f\"Original ratings: {len(ratings)}, Cleaned ratings: {len(ratings_clean)}\")"
   ]
  },
  {
   "cell_type": "code",
   "execution_count": 20,
   "id": "1f5badd8",
   "metadata": {},
   "outputs": [
    {
     "name": "stdout",
     "output_type": "stream",
     "text": [
      "Cleaned data saved to ../data/processed/ratings_clean.parquet\n"
     ]
    }
   ],
   "source": [
    "processed_path = \"../data/processed/ratings_clean.parquet\"\n",
    "ratings_clean.to_parquet(processed_path, index=False)\n",
    "\n",
    "print(f\"Cleaned data saved to {processed_path}\")"
   ]
  },
  {
   "cell_type": "code",
   "execution_count": null,
   "id": "624eeace",
   "metadata": {},
   "outputs": [],
   "source": []
  },
  {
   "cell_type": "code",
   "execution_count": null,
   "id": "c82a9dcb",
   "metadata": {},
   "outputs": [],
   "source": []
  },
  {
   "cell_type": "code",
   "execution_count": null,
   "id": "78ed249d",
   "metadata": {},
   "outputs": [],
   "source": []
  },
  {
   "cell_type": "code",
   "execution_count": null,
   "id": "0e02a22e",
   "metadata": {},
   "outputs": [],
   "source": []
  },
  {
   "cell_type": "code",
   "execution_count": null,
   "id": "70f8c428",
   "metadata": {},
   "outputs": [],
   "source": []
  },
  {
   "cell_type": "code",
   "execution_count": null,
   "id": "3a1c25c0",
   "metadata": {},
   "outputs": [],
   "source": []
  },
  {
   "cell_type": "code",
   "execution_count": null,
   "id": "adb4b79b",
   "metadata": {},
   "outputs": [],
   "source": []
  }
 ],
 "metadata": {
  "kernelspec": {
   "display_name": "ab_system",
   "language": "python",
   "name": "python3"
  },
  "language_info": {
   "codemirror_mode": {
    "name": "ipython",
    "version": 3
   },
   "file_extension": ".py",
   "mimetype": "text/x-python",
   "name": "python",
   "nbconvert_exporter": "python",
   "pygments_lexer": "ipython3",
   "version": "3.9.23"
  }
 },
 "nbformat": 4,
 "nbformat_minor": 5
}
